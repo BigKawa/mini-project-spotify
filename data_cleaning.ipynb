{
 "cells": [
  {
   "cell_type": "code",
   "execution_count": 32,
   "id": "9bed7ce2-cd36-4eee-8042-67fa3ad97051",
   "metadata": {},
   "outputs": [
    {
     "name": "stderr",
     "output_type": "stream",
     "text": [
      "/var/folders/43/30gtvzf54299gghzdyc8_l900000gn/T/ipykernel_85595/1182053672.py:15: FutureWarning: DataFrame.applymap has been deprecated. Use DataFrame.map instead.\n",
      "  df_cleaned = df.applymap(remove_non_ascii)\n"
     ]
    },
    {
     "name": "stdout",
     "output_type": "stream",
     "text": [
      "Non-ASCII characters removed and saved to new file.\n"
     ]
    }
   ],
   "source": [
    "import pandas as pd\n",
    "\n",
    "# Step 1: Read the CSV file\n",
    "file_path = '/Users/rishikeshdhokare/Documents/Ironhack/MiniProject/mini-project-spotify/spotify_songs.csv'\n",
    "df = pd.read_csv(file_path, encoding='utf-8')\n",
    "\n",
    "# Step 2: Define a function to remove non-ASCII characters\n",
    "def remove_non_ascii(text):\n",
    "    # If value is not string (e.g., NaN), return it as is\n",
    "    if not isinstance(text, str):\n",
    "        return text\n",
    "    return ''.join([char for char in text if ord(char) < 128])\n",
    "\n",
    "# Step 3: Apply the function to each column in the DataFrame (text-based columns)\n",
    "df_cleaned = df.applymap(remove_non_ascii)\n",
    "\n",
    "# Step 4: Save the cleaned DataFrame to a new CSV file\n",
    "cleaned_file_path = '/Users/rishikeshdhokare/Documents/Ironhack/MiniProject/mini-project-spotify/spotify_songs_cleaned.csv'\n",
    "df_cleaned.to_csv(cleaned_file_path, encoding='utf-8', index=False)\n",
    "\n",
    "print(\"Non-ASCII characters removed and saved to new file.\")\n",
    "\n"
   ]
  }
 ],
 "metadata": {
  "kernelspec": {
   "display_name": "Python 3 (ipykernel)",
   "language": "python",
   "name": "python3"
  },
  "language_info": {
   "codemirror_mode": {
    "name": "ipython",
    "version": 3
   },
   "file_extension": ".py",
   "mimetype": "text/x-python",
   "name": "python",
   "nbconvert_exporter": "python",
   "pygments_lexer": "ipython3",
   "version": "3.12.4"
  }
 },
 "nbformat": 4,
 "nbformat_minor": 5
}
